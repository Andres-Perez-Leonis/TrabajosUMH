{
 "cells": [
  {
   "cell_type": "code",
   "execution_count": 11,
   "id": "d6c755f9",
   "metadata": {},
   "outputs": [],
   "source": [
    "# Valor alto para que el algoritmo nunca escoja este camino\n",
    "MaximoValor = 99999999999999"
   ]
  },
  {
   "cell_type": "code",
   "execution_count": 12,
   "id": "eff98da0",
   "metadata": {},
   "outputs": [],
   "source": [
    "# Inicializacion de la matriz de incidencia resultande del grafo\n",
    "MatrizIncidencia = [ [0, MaximoValor, MaximoValor, MaximoValor, 78, 142,MaximoValor,MaximoValor],\n",
    "                    [MaximoValor, 0, 46, MaximoValor, 34, MaximoValor,68,485],\n",
    "                    [MaximoValor, 46, 0, 76, MaximoValor, 112,MaximoValor,MaximoValor],\n",
    "                    [MaximoValor, MaximoValor, 76, 0, 146,MaximoValor,38, MaximoValor],\n",
    "                    [78,34, MaximoValor, 146, 0, MaximoValor, MaximoValor, MaximoValor],\n",
    "                    [142, MaximoValor, 112, MaximoValor, MaximoValor, 0, MaximoValor, MaximoValor],\n",
    "                    [MaximoValor, 68, MaximoValor, 38, MaximoValor, MaximoValor, 0, MaximoValor],\n",
    "                    [MaximoValor, 485, MaximoValor, MaximoValor, MaximoValor, MaximoValor, MaximoValor, 0] ]"
   ]
  },
  {
   "cell_type": "code",
   "execution_count": 13,
   "id": "7709ee58",
   "metadata": {},
   "outputs": [],
   "source": [
    "# Declaracion e inicializacion de variables que usaremos en el algoritmo\n",
    "Costes = [MaximoValor]*len(MatrizIncidencia)\n",
    "Costes[0] = 0\n",
    "NodosPasados = []\n",
    "NodosDePaso = [i for i in range(len(MatrizIncidencia))]\n",
    "NodosAdyacentes = [i for i in MatrizIncidencia[0]]\n",
    "CiudadDePaso = []\n",
    "LugarDePaso = [\"x\" for i in range(len(MatrizIncidencia))]\n",
    "Nombres = [\"A\"]\n",
    "A = 0 # Esta variable la utilizo que no amplie el vector LugarDePaso una vez contruida"
   ]
  },
  {
   "cell_type": "code",
   "execution_count": 14,
   "id": "6c452092",
   "metadata": {},
   "outputs": [],
   "source": [
    "# Funcion que determina mediante un numero la ciudad a la que hace referencia\n",
    "def DeterminarCamino():\n",
    "    for i in range(len(LugarDePaso)):\n",
    "        if(LugarDePaso[i] == 1):\n",
    "            Nombres.append(\"Ba\")\n",
    "        elif(LugarDePaso[i] == 2):\n",
    "            Nombres.append(\"P\")\n",
    "        elif(LugarDePaso[i] == 3):\n",
    "            Nombres.append(\"At\")\n",
    "        elif(LugarDePaso[i] == 4):\n",
    "            Nombres.append(\"Bu\")\n",
    "        elif(LugarDePaso[i] == 5):\n",
    "            Nombres.append(\"C\")\n",
    "        elif(LugarDePaso[i] == 6):\n",
    "            Nombres.append(\"Bud\")\n",
    "        elif(LugarDePaso[i] == 7):\n",
    "            Nombres.append(\"M\")"
   ]
  },
  {
   "cell_type": "code",
   "execution_count": 15,
   "id": "709b6daa",
   "metadata": {},
   "outputs": [],
   "source": [
    "#  Algoritmo central que analizara el grafo(la matriz de incidencia resultante)\n",
    "# y determinará que nodos son los mejores para llegar al destino\n",
    "def Dijkstra(MatrizIncidencia):\n",
    "    if(len(MatrizIncidencia) == 0): #Comprueba si la matriz esta vacia\n",
    "        print(\"El grafo esta vacio\")\n",
    "        return\n",
    "    \n",
    "    while NodosDePaso: # Comprobamos caminos hasta que no quede ninguno\n",
    "        \n",
    "        nodoMenor = min([valor for posicion, valor in enumerate(NodosAdyacentes) if posicion in NodosDePaso]) # Busca el menor valor de los nodos adyacentes\n",
    "        \n",
    "        lugar = NodosAdyacentes.index(nodoMenor)\n",
    "        NodosPasados.append(lugar) \n",
    "        NodosDePaso.remove(lugar) # Eliminamos los caminos utilizados\n",
    "        \n",
    "        for posicion, valor in enumerate(MatrizIncidencia[lugar]): # Actualiza los costes para llegar a los nodos\n",
    "            if (0 < valor < MaximoValor):\n",
    "                if (Costes[posicion] > Costes[lugar] + valor): #  Solo los actualizara si la suma entre el valor de llegada actual mas el valor\n",
    "                    Costes[posicion] = Costes[lugar] + valor # del camino al proximo nodo es menor que el coste de llegada a ese nodo\n",
    "                    LugarDePaso[posicion] = lugar\n",
    "                    NodosAdyacentes[posicion] = Costes[posicion]\n",
    "    return Costes\n",
    " \n",
    " \n",
    "\n"
   ]
  },
  {
   "cell_type": "code",
   "execution_count": 16,
   "id": "10d56ce8",
   "metadata": {},
   "outputs": [],
   "source": [
    "# Esta funcion imprime los caminos a seguir dependiendo del destino\n",
    "def ImprimirCamino(Ciudad):\n",
    "    print(\"Para llegar al destino hay que ir por: \")\n",
    "    if(Ciudad == 2):\n",
    "        print(Nombres[0], Nombres[1], Nombres[2])\n",
    "    elif(Ciudad == 3):\n",
    "        print(Nombres[0], Nombres[1], Nombres[2], \"P\")\n",
    "    elif(Ciudad == 4):\n",
    "        print(Nombres[0], Nombres[1], Nombres[2], \"At\")\n",
    "    elif(Ciudad == 5):\n",
    "        print(Nombres[0], Nombres[1])\n",
    "    elif(Ciudad == 6):\n",
    "        print(Nombres[0], \"C\")\n",
    "    elif(Ciudad == 7):\n",
    "        print(Nombres[0], Nombres[1], Nombres[2], Nombres[3])\n",
    "    elif(Ciudad == 8):\n",
    "        print(Nombres[0], Nombres[1], Nombres[2], \"M\")"
   ]
  },
  {
   "cell_type": "code",
   "execution_count": 18,
   "id": "c8863da4",
   "metadata": {},
   "outputs": [
    {
     "name": "stdout",
     "output_type": "stream",
     "text": [
      "Introduce el lugar de Destino: \n",
      "1. Alicante\n",
      "2. Barcelona\n",
      "3. Paris\n",
      "4. Atenas\n",
      "5. Burdeos\n",
      "6. Cork\n",
      "7. Budapest\n",
      "8. Mexico\n",
      "7\n",
      "Para llegar al destino hay que ir por: \n",
      "A Bu Ba Bud\n",
      "El coste para llegar al destino es:  180\n"
     ]
    }
   ],
   "source": [
    "# \"La funcion Main\"\n",
    "Ciudad = 2 \n",
    "print(\"Introduce el lugar de Destino: \") \n",
    "print(\"1. Alicante\") \n",
    "print(\"2. Barcelona\") \n",
    "print(\"3. Paris\") \n",
    "print(\"4. Atenas\") \n",
    "print(\"5. Burdeos\") \n",
    "print(\"6. Cork\") \n",
    "print(\"7. Budapest\") \n",
    "print(\"8. Mexico\") \n",
    "Ciudad = int(input())\n",
    "\n",
    "if(Ciudad == 1): \n",
    "    print(\"Ya estas en Alicante\") \n",
    "else: \n",
    "    Distancia = Dijkstra(MatrizIncidencia)\n",
    "    if(A == 0):\n",
    "        DeterminarCamino()\n",
    "        A = A + 1\n",
    "    #print(Nombres)\n",
    "    ImprimirCamino(Ciudad)\n",
    "    print(\"El coste para llegar al destino es: \", Distancia[Ciudad - 1])"
   ]
  },
  {
   "cell_type": "code",
   "execution_count": null,
   "id": "c912e0b8",
   "metadata": {},
   "outputs": [],
   "source": []
  },
  {
   "cell_type": "code",
   "execution_count": null,
   "id": "cf7d7f8c",
   "metadata": {},
   "outputs": [],
   "source": []
  }
 ],
 "metadata": {
  "kernelspec": {
   "display_name": "Python 3 (ipykernel)",
   "language": "python",
   "name": "python3"
  },
  "language_info": {
   "codemirror_mode": {
    "name": "ipython",
    "version": 3
   },
   "file_extension": ".py",
   "mimetype": "text/x-python",
   "name": "python",
   "nbconvert_exporter": "python",
   "pygments_lexer": "ipython3",
   "version": "3.9.12"
  }
 },
 "nbformat": 4,
 "nbformat_minor": 5
}
